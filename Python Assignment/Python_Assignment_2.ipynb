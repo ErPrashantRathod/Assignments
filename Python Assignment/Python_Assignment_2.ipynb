{
 "cells": [
  {
   "cell_type": "markdown",
   "id": "bd730d7a-d28e-471c-aa9d-51cdae18303b",
   "metadata": {},
   "source": [
    "# Assignment 1"
   ]
  },
  {
   "cell_type": "code",
   "execution_count": 1,
   "id": "ded40ed8-a559-4f9c-90f5-42bcd4311486",
   "metadata": {},
   "outputs": [
    {
     "data": {
      "text/plain": [
       "int"
      ]
     },
     "execution_count": 1,
     "metadata": {},
     "output_type": "execute_result"
    }
   ],
   "source": [
    "#1-Create a variable age and assign it the value 25 . Then print the value of age along with its data type using the type() function.\n",
    "age = 25\n",
    "type(age)"
   ]
  },
  {
   "cell_type": "code",
   "execution_count": 2,
   "id": "3b053b64-0855-4beb-906c-a64483f4f876",
   "metadata": {},
   "outputs": [
    {
     "name": "stdout",
     "output_type": "stream",
     "text": [
      "12.5 <class 'float'>\n",
      "12 <class 'int'>\n"
     ]
    }
   ],
   "source": [
    "#2-Assign the number 12.5 to a variable price . Print both the variable and itsdata type. Then assign the value 12 to the same variable and print its data\n",
    "#type again. What do you observe?\n",
    "price = 12.5\n",
    "print(price, type(price))\n",
    "price = 12\n",
    "print(price, type(price))"
   ]
  },
  {
   "cell_type": "code",
   "execution_count": 3,
   "id": "505e8c61-3c57-4139-b70e-eca9a5d501cc",
   "metadata": {},
   "outputs": [
    {
     "name": "stdout",
     "output_type": "stream",
     "text": [
      "True <class 'bool'>\n",
      "False <class 'bool'>\n"
     ]
    }
   ],
   "source": [
    "#3-Create a variable is_raining and set it to True . Print the value of the variable\n",
    "#along with its type. Then set is_raining to False and print the new value and type.\n",
    "is_raining = True\n",
    "print(is_raining, type(is_raining))\n",
    "is_raining = False\n",
    "print(is_raining, type(is_raining))"
   ]
  },
  {
   "cell_type": "code",
   "execution_count": 4,
   "id": "66940d43-b126-4d2d-b3bd-40bb31ef2252",
   "metadata": {},
   "outputs": [
    {
     "name": "stdout",
     "output_type": "stream",
     "text": [
      "'Prashant Vinayak Rathod'\n"
     ]
    }
   ],
   "source": [
    "#4-Create a variable my_name and store your full name in it as a string. Then print the value of my_name using single quotes ' .\n",
    "my_name = 'Prashant Vinayak Rathod'\n",
    "print(f\"'{my_name}'\")"
   ]
  },
  {
   "cell_type": "code",
   "execution_count": 6,
   "id": "c231eb67-84b9-4831-8bc6-2f1c9c5eb794",
   "metadata": {},
   "outputs": [
    {
     "name": "stdin",
     "output_type": "stream",
     "text": [
      "enter name-  Prashant\n",
      "enter age-  45\n"
     ]
    },
    {
     "name": "stdout",
     "output_type": "stream",
     "text": [
      "Hello, Prashant! your are 45 year old\n"
     ]
    }
   ],
   "source": [
    "#5-Write a Python program that asks the user for their name and age using the input() function. Store the inputs in variables and print a sentence like\n",
    "#\"Hello, [Name]! You are [Age] years old.\" Ensure you cast the age to an integer.\n",
    "name = input(\"enter name- \")\n",
    "age = int(input(\"enter age- \"))\n",
    "print(f\"Hello, {name}! your are {age} year old\")"
   ]
  },
  {
   "cell_type": "code",
   "execution_count": 7,
   "id": "ceafd15c-9b19-494e-9296-5b8e38740946",
   "metadata": {},
   "outputs": [
    {
     "name": "stdout",
     "output_type": "stream",
     "text": [
      "10 <class 'int'>\n",
      "3.5 <class 'float'>\n",
      "13.5 <class 'float'>\n"
     ]
    }
   ],
   "source": [
    "#6-Create two variables x and y and assign them the values 10 and 3.5 ,respectively. Print their values and types. Then, create a new variable\n",
    "#sum_xy and store the sum of x and y . Print the result and its type.\n",
    "x = 10\n",
    "y = 3.5\n",
    "print(x, type(x))\n",
    "print(y, type(y))\n",
    "sum_xy = x + y\n",
    "print(sum_xy, type(sum_xy))"
   ]
  },
  {
   "cell_type": "code",
   "execution_count": 8,
   "id": "6cdac1d6-1b32-4b27-90a3-5d5270c21c9d",
   "metadata": {},
   "outputs": [
    {
     "name": "stdout",
     "output_type": "stream",
     "text": [
      "<class 'float'>\n",
      "<class 'str'>\n",
      "<class 'NoneType'>\n",
      "<class 'bool'>\n"
     ]
    }
   ],
   "source": [
    "#7-Using the type() function, check and print the data type of the following:\n",
    "#45.0, \"hello\", None, False\n",
    "print(type(45.0))\n",
    "print(type(\"hello\"))\n",
    "print(type(None))\n",
    "print(type(False))"
   ]
  },
  {
   "cell_type": "code",
   "execution_count": 9,
   "id": "80ce93d0-409b-4c53-8b35-872cf627bc81",
   "metadata": {},
   "outputs": [
    {
     "name": "stdout",
     "output_type": "stream",
     "text": [
      "apple banana cherry\n",
      "apple,banana,cherry\n"
     ]
    }
   ],
   "source": [
    "#8-Write a Python program to print three strings \"apple\" , \"banana\" , and \"cherry\" on the same line, separated by a space. Then modify the program to\n",
    "#separate the strings using a comma , instead of a space.\n",
    "print(\"apple\"\" \"\"banana\"\" \"\"cherry\")\n",
    "print(\"apple\"\",\"\"banana\"\",\"\"cherry\")"
   ]
  },
  {
   "cell_type": "code",
   "execution_count": 10,
   "id": "4b0d663a-0668-4d61-9ae5-4dc65f4a10e8",
   "metadata": {},
   "outputs": [
    {
     "name": "stdout",
     "output_type": "stream",
     "text": [
      "789456123321654987 <class 'int'>\n"
     ]
    }
   ],
   "source": [
    "#9-Create a variable big_number and assign it a very large integer value (e.g.,987654321987654321 ). Print the value and its type. What do you notice about\n",
    "#the size of the number?\n",
    "big_number = 789456123321654987\n",
    "print(big_number, type(big_number))"
   ]
  },
  {
   "cell_type": "code",
   "execution_count": 11,
   "id": "c7bcdc18-1e61-44c7-af66-15528fd50b7a",
   "metadata": {},
   "outputs": [
    {
     "name": "stdout",
     "output_type": "stream",
     "text": [
      "9.25 <class 'float'>\n"
     ]
    }
   ],
   "source": [
    "#10-Write a Python program that prints the result of multiplying two floats (e.g.,2.5 and 3.7 ). Then check and print the data type of the result.\n",
    "a = 2.5\n",
    "b = 3.7\n",
    "print((a * b), type(a * b))"
   ]
  },
  {
   "cell_type": "code",
   "execution_count": null,
   "id": "b0ca7626-9883-46a9-828f-786a46e1480d",
   "metadata": {},
   "outputs": [],
   "source": []
  }
 ],
 "metadata": {
  "kernelspec": {
   "display_name": "Python 3 (ipykernel)",
   "language": "python",
   "name": "python3"
  },
  "language_info": {
   "codemirror_mode": {
    "name": "ipython",
    "version": 3
   },
   "file_extension": ".py",
   "mimetype": "text/x-python",
   "name": "python",
   "nbconvert_exporter": "python",
   "pygments_lexer": "ipython3",
   "version": "3.13.2"
  }
 },
 "nbformat": 4,
 "nbformat_minor": 5
}
