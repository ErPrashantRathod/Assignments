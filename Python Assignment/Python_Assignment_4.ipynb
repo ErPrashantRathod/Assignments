{
 "cells": [
  {
   "cell_type": "markdown",
   "id": "d741b023-164d-4597-8c8b-50f1b5764ba2",
   "metadata": {},
   "source": [
    "# Assignment 4"
   ]
  },
  {
   "cell_type": "code",
   "execution_count": 1,
   "id": "2793af2a-8394-4dd9-a46e-74f943083698",
   "metadata": {},
   "outputs": [
    {
     "name": "stdin",
     "output_type": "stream",
     "text": [
      "enter number- 4\n"
     ]
    },
    {
     "name": "stdout",
     "output_type": "stream",
     "text": [
      "even\n"
     ]
    }
   ],
   "source": [
    "#1-Write a Python program that checks if a number entered by the user is even or odd. Print \"Even\" if the number is even and \"Odd\" if it is odd.\n",
    "num = int(input(\"enter number-\"))\n",
    "if num%2 == 0:\n",
    "    print(\"even\")\n",
    "else:\n",
    "    print(\"odd\")"
   ]
  },
  {
   "cell_type": "code",
   "execution_count": 2,
   "id": "61ae8bbc-c16e-4622-b5aa-95b0a718f9a2",
   "metadata": {},
   "outputs": [
    {
     "name": "stdin",
     "output_type": "stream",
     "text": [
      "enter your age- 5\n"
     ]
    },
    {
     "name": "stdout",
     "output_type": "stream",
     "text": [
      "child\n"
     ]
    }
   ],
   "source": [
    "#2-Create a program that prompts the user for their age and prints whether they are a child (0-12), teenager (13-19), or adult (20 and above).\n",
    "age = int(input(\"enter your age-\"))\n",
    "if age < 12:\n",
    "    print(\"child\")\n",
    "elif age >= 13 and age <=19:\n",
    "    print(\"teenager\")\n",
    "else:\n",
    "    print(\"adult\")"
   ]
  },
  {
   "cell_type": "code",
   "execution_count": 3,
   "id": "d2259edf-9577-48f9-a7a7-c975222e868a",
   "metadata": {},
   "outputs": [
    {
     "name": "stdin",
     "output_type": "stream",
     "text": [
      "enter number1- 45\n",
      "enter number2- 85\n"
     ]
    },
    {
     "name": "stdout",
     "output_type": "stream",
     "text": [
      "num2 is greater than num1\n"
     ]
    }
   ],
   "source": [
    "#3-Write a program that takes two numbers as input from the user and prints which number is larger. If both numbers are equal, print \"Both numbers are\n",
    "#equal.\"\n",
    "num1 = int(input(\"enter number1-\"))\n",
    "num2 = int(input(\"enter number2-\"))\n",
    "if num1 > num2:\n",
    "    print(\"num1 is greater than num2\")\n",
    "elif num2 > num1:\n",
    "    print(\"num2 is greater than num1\")\n",
    "else:\n",
    "    print(\"both numbers are equal\")"
   ]
  },
  {
   "cell_type": "code",
   "execution_count": 4,
   "id": "90a86cbe-99f5-4dfd-99bb-09e4e00d7efd",
   "metadata": {},
   "outputs": [
    {
     "name": "stdin",
     "output_type": "stream",
     "text": [
      "enter password- securePassword\n"
     ]
    },
    {
     "name": "stdout",
     "output_type": "stream",
     "text": [
      "access granted\n"
     ]
    }
   ],
   "source": [
    "#4-Create a program that checks if a user-entered password matches the string \"securePassword\". Print \"Access Granted\" if it matches, otherwise\n",
    "#print \"Access Denied.\"\n",
    "password = \"securePassword\"\n",
    "ui = input(\"enter password-\")\n",
    "if ui == password:\n",
    "    print(\"access granted\")\n",
    "else:\n",
    "    print(\"access denied\")"
   ]
  },
  {
   "cell_type": "code",
   "execution_count": 5,
   "id": "280866f9-451d-458a-ad86-0efa89d05492",
   "metadata": {},
   "outputs": [
    {
     "name": "stdin",
     "output_type": "stream",
     "text": [
      "enter mark- 85\n"
     ]
    },
    {
     "name": "stdout",
     "output_type": "stream",
     "text": [
      "B\n"
     ]
    }
   ],
   "source": [
    "#5-Write a program that takes a score from the user (0-100) and prints thecorresponding grade:\n",
    "#A for 90-100\n",
    "#B for 80-89\n",
    "#C for 70-79\n",
    "#D for 60-69\n",
    "#F for below 60\n",
    "marks = int(input(\"enter mark-\"))\n",
    "if 90 <= marks <= 100:\n",
    "    print(\"A\")\n",
    "elif 80 <= marks <= 89:\n",
    "    print(\"B\")\n",
    "elif 70 <= marks <= 79:\n",
    "    print(\"C\")\n",
    "elif 60 <= marks <= 69:\n",
    "    print(\"D\")\n",
    "else:\n",
    "    print(\"F\")"
   ]
  },
  {
   "cell_type": "code",
   "execution_count": 6,
   "id": "2a2a2d64-7829-4ae8-b0ed-83f5a431f189",
   "metadata": {},
   "outputs": [
    {
     "name": "stdin",
     "output_type": "stream",
     "text": [
      "enter number- -1\n"
     ]
    },
    {
     "name": "stdout",
     "output_type": "stream",
     "text": [
      "negative number\n"
     ]
    }
   ],
   "source": [
    "#6-Create a program that asks the user for a number and checks if it is positive, negative, or zero. Print the corresponding message.\n",
    "a = int(input(\"enter number-\"))\n",
    "if a > 0:\n",
    "    print(\"positve number\")\n",
    "elif a < 0:\n",
    "    print(\"negative number\")\n",
    "else:\n",
    "    print(\"zero\")"
   ]
  },
  {
   "cell_type": "code",
   "execution_count": 7,
   "id": "8562dbb7-9d25-4baa-91ea-e6acf0fe5f13",
   "metadata": {},
   "outputs": [
    {
     "name": "stdin",
     "output_type": "stream",
     "text": [
      "enter number- 55\n",
      "enter number- 45\n",
      "enter number- 65\n"
     ]
    },
    {
     "name": "stdout",
     "output_type": "stream",
     "text": [
      "65\n"
     ]
    }
   ],
   "source": [
    "#7-Write a program that takes three numbers from the user and determines the largest of the three. Print the largest number.\n",
    "a = int(input(\"enter number-\"))\n",
    "b = int(input(\"enter number-\"))\n",
    "c = int(input(\"enter number-\"))\n",
    "if a > b and a > c:\n",
    "    print(a)\n",
    "elif b > a and b > c:\n",
    "    print(b)\n",
    "else:\n",
    "    print(c)"
   ]
  },
  {
   "cell_type": "code",
   "execution_count": 8,
   "id": "fbd8d5f4-d13a-41f5-ac80-3ef4022fde2d",
   "metadata": {},
   "outputs": [
    {
     "name": "stdin",
     "output_type": "stream",
     "text": [
      "enter letter- c\n"
     ]
    },
    {
     "name": "stdout",
     "output_type": "stream",
     "text": [
      "consonant\n"
     ]
    }
   ],
   "source": [
    "#8-Create a program that checks if a user-entered character is a vowel (a, e, i, o, u) or a consonant. Print the corresponding message.\n",
    "a = input(\"enter letter-\")\n",
    "if a in (\"a\", \"e\", \"i\", \"o\", \"u\"):\n",
    "    print(\"its vowel\")\n",
    "else:\n",
    "    print(\"consonant\")"
   ]
  },
  {
   "cell_type": "code",
   "execution_count": 9,
   "id": "6046eafd-efe3-4913-9fbc-8a0a0967f822",
   "metadata": {},
   "outputs": [
    {
     "name": "stdin",
     "output_type": "stream",
     "text": [
      "enter year- 1956\n"
     ]
    },
    {
     "name": "stdout",
     "output_type": "stream",
     "text": [
      "1956 is leap year\n"
     ]
    }
   ],
   "source": [
    "#9-Write a program that checks if a given year is a leap year. A year is a leap year if it is divisible by 4, except for years that are divisible by \n",
    "#100 but not divisible by 400.\n",
    "year = int(input(\"enter year-\"))\n",
    "if (year % 4 == 0 and year % 100 != 0) or (year % 400 == 0):\n",
    "    print(year, \"is leap year\")\n",
    "else:\n",
    "    print(year, \"is not leap year\")"
   ]
  },
  {
   "cell_type": "code",
   "execution_count": 10,
   "id": "23d21376-072a-468a-9cb2-9bfcf6ac1c4e",
   "metadata": {},
   "outputs": [
    {
     "name": "stdin",
     "output_type": "stream",
     "text": [
      "enter temp- 102\n"
     ]
    },
    {
     "name": "stdout",
     "output_type": "stream",
     "text": [
      "215.6\n",
      "its boiling!\n"
     ]
    }
   ],
   "source": [
    "#10-Create a program that prompts the user for a temperature in Celsius and converts it to Fahrenheit. If the converted temperature is greater than\n",
    "#100°F, print \"It's boiling!\" Otherwise, print \"It's not boiling yet.\"\n",
    "cel = int(input(\"enter temp-\"))\n",
    "fah = (cel * 9/5) +32\n",
    "print(fah)\n",
    "if fah > 100:\n",
    "    print(\"its boiling!\")\n",
    "else:\n",
    "    print(\"its not boiling yet\")"
   ]
  },
  {
   "cell_type": "code",
   "execution_count": null,
   "id": "53553527-f7d4-4a18-93aa-a0d10afe5538",
   "metadata": {},
   "outputs": [],
   "source": []
  }
 ],
 "metadata": {
  "kernelspec": {
   "display_name": "Python 3 (ipykernel)",
   "language": "python",
   "name": "python3"
  },
  "language_info": {
   "codemirror_mode": {
    "name": "ipython",
    "version": 3
   },
   "file_extension": ".py",
   "mimetype": "text/x-python",
   "name": "python",
   "nbconvert_exporter": "python",
   "pygments_lexer": "ipython3",
   "version": "3.13.2"
  }
 },
 "nbformat": 4,
 "nbformat_minor": 5
}
