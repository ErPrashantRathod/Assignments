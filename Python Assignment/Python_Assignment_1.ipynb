{
 "cells": [
  {
   "cell_type": "code",
   "execution_count": 1,
   "id": "31f51795-cfba-4136-bb49-6652024a8a4a",
   "metadata": {},
   "outputs": [
    {
     "name": "stdout",
     "output_type": "stream",
     "text": [
      "PVR \n",
      "NavyBlue\n"
     ]
    }
   ],
   "source": [
    "#1-Write a Python program to print your name and favourite colour on two\n",
    "#separate lines.\n",
    "print(\"PVR \\nNavyBlue\")"
   ]
  },
  {
   "cell_type": "code",
   "execution_count": 2,
   "id": "5483bbad-e094-4d58-b31f-d93cb08b82d4",
   "metadata": {},
   "outputs": [
    {
     "name": "stdout",
     "output_type": "stream",
     "text": [
      "15\n"
     ]
    }
   ],
   "source": [
    "#2-Write a Python program that prints the result of adding 7 and 8.\n",
    "a = 7 \n",
    "b = 8\n",
    "print(a + b)"
   ]
  },
  {
   "cell_type": "code",
   "execution_count": 3,
   "id": "2afd0ab4-9272-409d-b14e-50e7aa62cace",
   "metadata": {},
   "outputs": [
    {
     "name": "stdout",
     "output_type": "stream",
     "text": [
      "Python is fun!\n",
      "Let's learn together.\n"
     ]
    }
   ],
   "source": [
    "#3-Use the print function to display the following text exactly as it is:\n",
    "print(\"\"\"Python is fun!\n",
    "Let's learn together.\"\"\")"
   ]
  },
  {
   "cell_type": "code",
   "execution_count": 4,
   "id": "b4a46dc7-07df-4f6d-b0a3-3ef6dcb14c8b",
   "metadata": {},
   "outputs": [
    {
     "name": "stdout",
     "output_type": "stream",
     "text": [
      "54\n"
     ]
    }
   ],
   "source": [
    "#4-Write a Python program to calculate and print the result of multiplying 6 by 9.\n",
    "a = 6\n",
    "b = 9 \n",
    "print(a * b)"
   ]
  },
  {
   "cell_type": "code",
   "execution_count": 5,
   "id": "6ee46b6f-b4f5-4c9d-a181-6cfd737d7f8a",
   "metadata": {},
   "outputs": [
    {
     "name": "stdout",
     "output_type": "stream",
     "text": [
      "10 6\n"
     ]
    }
   ],
   "source": [
    "#5-Write a Python program that prints the result of adding 5 + 5 and multiplying 2 * 3 in a single line of code.\n",
    "print(5 + 5, 2 * 3)"
   ]
  },
  {
   "cell_type": "code",
   "execution_count": 6,
   "id": "cd1e23a3-57f5-4e78-85f7-6732e69b6158",
   "metadata": {},
   "outputs": [
    {
     "name": "stdin",
     "output_type": "stream",
     "text": [
      "enter name-  A\n"
     ]
    },
    {
     "name": "stdout",
     "output_type": "stream",
     "text": [
      "Hello A\n"
     ]
    }
   ],
   "source": [
    "#1. Take the name A as input from the user and print \"Hello A\", where A is the name in input.\n",
    "a = input(\"enter name- \")\n",
    "print(\"Hello \" + a)"
   ]
  },
  {
   "cell_type": "code",
   "execution_count": 7,
   "id": "d9b8e1ce-10d6-44cf-9525-ec6ca539f33b",
   "metadata": {},
   "outputs": [
    {
     "name": "stdout",
     "output_type": "stream",
     "text": [
      "3000\n"
     ]
    }
   ],
   "source": [
    "#2. You have x rupees in your savings. You google pay y rupees, print your bank balance\n",
    "x = 10000\n",
    "y = 7000\n",
    "print(x - y)"
   ]
  },
  {
   "cell_type": "code",
   "execution_count": 8,
   "id": "f179e17d-647b-49cd-b189-bc4c8237d84e",
   "metadata": {},
   "outputs": [
    {
     "name": "stdout",
     "output_type": "stream",
     "text": [
      "A \n",
      "B \n",
      "C \n",
      "D \n",
      "E\n"
     ]
    }
   ],
   "source": [
    "#3. Print the first five letters of the English alphabet i.e. A, B, C, D and E. one below each other\n",
    "print(\"A \\nB \\nC \\nD \\nE\")"
   ]
  },
  {
   "cell_type": "code",
   "execution_count": 9,
   "id": "0c79eafa-68c0-4a22-aaa9-80b6c0750f74",
   "metadata": {},
   "outputs": [
    {
     "name": "stdin",
     "output_type": "stream",
     "text": [
      "enter name-  Rathod\n",
      "enter name-  JHBYTF\n"
     ]
    },
    {
     "name": "stdout",
     "output_type": "stream",
     "text": [
      "Rathod says hi to JHBYTF\n"
     ]
    }
   ],
   "source": [
    "#4. Take two names A and B as input from the user, and print \"A says Hi to B\" (Without quotations), where A and B are the names in input.\n",
    "a = input(\"enter name- \")\n",
    "b = input(\"enter name- \")\n",
    "print(a + \" says hi to \" + b)"
   ]
  },
  {
   "cell_type": "code",
   "execution_count": null,
   "id": "b8df6314-ca89-423e-9ba3-aec72917ee3f",
   "metadata": {},
   "outputs": [],
   "source": []
  }
 ],
 "metadata": {
  "kernelspec": {
   "display_name": "Python 3 (ipykernel)",
   "language": "python",
   "name": "python3"
  },
  "language_info": {
   "codemirror_mode": {
    "name": "ipython",
    "version": 3
   },
   "file_extension": ".py",
   "mimetype": "text/x-python",
   "name": "python",
   "nbconvert_exporter": "python",
   "pygments_lexer": "ipython3",
   "version": "3.13.2"
  }
 },
 "nbformat": 4,
 "nbformat_minor": 5
}
