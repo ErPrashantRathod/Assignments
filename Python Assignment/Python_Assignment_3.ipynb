{
 "cells": [
  {
   "cell_type": "markdown",
   "id": "652568d0-637b-4447-aab3-18a2da5f2b7d",
   "metadata": {},
   "source": [
    "# Assignment 3"
   ]
  },
  {
   "cell_type": "code",
   "execution_count": 1,
   "id": "bf7d812d-0b9a-4d1d-8061-ce69499da856",
   "metadata": {},
   "outputs": [
    {
     "name": "stdout",
     "output_type": "stream",
     "text": [
      "3\n"
     ]
    }
   ],
   "source": [
    "#1-Create a variable x with the value 15 . Perform floored division by 4 and print the result. What is the difference between floored division and normal\n",
    "#division?\n",
    "x = 15\n",
    "print(x//4)"
   ]
  },
  {
   "cell_type": "code",
   "execution_count": 2,
   "id": "07e34284-dca5-4aec-9282-fadfeb27aba8",
   "metadata": {},
   "outputs": [
    {
     "name": "stdout",
     "output_type": "stream",
     "text": [
      "64 its square of 8\n",
      "4.0 its squareroot of 16\n"
     ]
    }
   ],
   "source": [
    "#2-Write a program to calculate 8 ** 2 and 16 ** 0.5 . Print both results and describe what each represents.\n",
    "print(8**2, \"its square of 8\")\n",
    "print(16**0.5, \"its squareroot of 16\")"
   ]
  },
  {
   "cell_type": "code",
   "execution_count": 3,
   "id": "362b395d-410e-44c0-9c95-95060cca0614",
   "metadata": {},
   "outputs": [
    {
     "name": "stdout",
     "output_type": "stream",
     "text": [
      "6.25\n"
     ]
    }
   ],
   "source": [
    "#3-Use arithmetic operators to solve the following expression: 20 - 5 * 3 + 8 / 4 . Use parentheses to make sure the addition happens before\n",
    "#multiplication. Print the output.\n",
    "print(20 - 5 * (3 + 8) / 4)"
   ]
  },
  {
   "cell_type": "code",
   "execution_count": 4,
   "id": "d34a8720-7d41-47b7-9be5-9a28eac8cb18",
   "metadata": {},
   "outputs": [
    {
     "name": "stdout",
     "output_type": "stream",
     "text": [
      "7.0\n"
     ]
    }
   ],
   "source": [
    "#4-Assign the value 7 to a variable num . Convert it to a float and print the result. What is the difference between 7 and 7.0 ?\n",
    "num = 7\n",
    "print(float(num))"
   ]
  },
  {
   "cell_type": "code",
   "execution_count": 5,
   "id": "525e6fc1-38a4-4df1-a079-413c3f9e63e1",
   "metadata": {},
   "outputs": [
    {
     "name": "stdout",
     "output_type": "stream",
     "text": [
      "True <class 'bool'>\n"
     ]
    }
   ],
   "source": [
    "#5-Use a comparison operator to check if 100 is greater than 50 . Print the result and indicate what type of value this is.\n",
    "a = 100 > 50\n",
    "print(a, type(a))"
   ]
  },
  {
   "cell_type": "code",
   "execution_count": 6,
   "id": "96944691-d7c1-4d2a-b558-bd6aed1477ed",
   "metadata": {},
   "outputs": [
    {
     "name": "stdout",
     "output_type": "stream",
     "text": [
      "False\n"
     ]
    }
   ],
   "source": [
    "#6-Assign True to a variable is_sunny and False to is_weekend . Use logical operators to check if it is sunny and the weekend ( is_sunny and is_weekend )\n",
    "#Print the result.\n",
    "is_sunny = True\n",
    "is_weekend = False\n",
    "print(is_sunny and is_weekend)"
   ]
  },
  {
   "cell_type": "code",
   "execution_count": 8,
   "id": "1a8b63db-fd69-4892-9e2f-d4d1725fce2e",
   "metadata": {},
   "outputs": [
    {
     "name": "stdin",
     "output_type": "stream",
     "text": [
      "enter password-  my_password123\n"
     ]
    },
    {
     "name": "stdout",
     "output_type": "stream",
     "text": [
      "True\n"
     ]
    }
   ],
   "source": [
    "#7-Create a variable password and set it to \"my_password123\" . Ask the user to inputa password and print True if the input matches the value of password\n",
    "#otherwise print False .\n",
    "password = \"my_password123\"\n",
    "a = input(\"enter password- \")\n",
    "if a == password:\n",
    "    print(True)\n",
    "else:\n",
    "    print(False)"
   ]
  },
  {
   "cell_type": "code",
   "execution_count": 9,
   "id": "09e279ec-0b88-432f-90aa-a87109afe6f2",
   "metadata": {},
   "outputs": [
    {
     "name": "stdout",
     "output_type": "stream",
     "text": [
      "55\n"
     ]
    }
   ],
   "source": [
    "#8-Assign the value 50 to a variable marks . Increment the value of marks by 5 using the += operator, then print the new value.\n",
    "marks = 50\n",
    "marks += 5\n",
    "print(marks)"
   ]
  },
  {
   "cell_type": "code",
   "execution_count": 10,
   "id": "c63df82f-96b9-492f-a179-66cb42eac7d7",
   "metadata": {},
   "outputs": [
    {
     "name": "stdout",
     "output_type": "stream",
     "text": [
      "10\n"
     ]
    }
   ],
   "source": [
    "#9-Write a program to check if the value of a = 0 and b = 10 satisfies a or b . Print the output and explain why it gives that result.\n",
    "a = 0\n",
    "b = 10\n",
    "c = a or b\n",
    "print(c)"
   ]
  },
  {
   "cell_type": "code",
   "execution_count": 11,
   "id": "8753a7c9-1a3f-43c9-99d2-ad33fd111076",
   "metadata": {},
   "outputs": [
    {
     "name": "stdout",
     "output_type": "stream",
     "text": [
      "True\n"
     ]
    }
   ],
   "source": [
    "#10-Use not to negate the value of False and print the result. Explain what the not operator does in Python.\n",
    "a = not False\n",
    "print(a)"
   ]
  },
  {
   "cell_type": "code",
   "execution_count": null,
   "id": "b7bb13dd-8f68-4b60-a6a2-2743b191ae25",
   "metadata": {},
   "outputs": [],
   "source": []
  }
 ],
 "metadata": {
  "kernelspec": {
   "display_name": "Python 3 (ipykernel)",
   "language": "python",
   "name": "python3"
  },
  "language_info": {
   "codemirror_mode": {
    "name": "ipython",
    "version": 3
   },
   "file_extension": ".py",
   "mimetype": "text/x-python",
   "name": "python",
   "nbconvert_exporter": "python",
   "pygments_lexer": "ipython3",
   "version": "3.13.2"
  }
 },
 "nbformat": 4,
 "nbformat_minor": 5
}
